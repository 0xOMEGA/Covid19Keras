{
  "nbformat": 4,
  "nbformat_minor": 0,
  "metadata": {
    "colab": {
      "name": "Covid19 Lung Examine",
      "provenance": [],
      "collapsed_sections": [],
      "toc_visible": true
    },
    "kernelspec": {
      "name": "python3",
      "display_name": "Python 3"
    },
    "accelerator": "GPU"
  },
  "cells": [
    {
      "cell_type": "code",
      "metadata": {
        "id": "RXZT2UsyIVe_",
        "colab": {
          "base_uri": "https://localhost:8080/"
        },
        "outputId": "df446fc6-2aa8-491e-b5ce-44e0e67ff4a6"
      },
      "source": [
        "!wget --no-check-certificate \\\n",
        "    https://github.com/0xOMEGA/Covid19Keras/archive/main.zip \\\n",
        "    -O /tmp/main.zip"
      ],
      "execution_count": 1,
      "outputs": [
        {
          "output_type": "stream",
          "text": [
            "--2021-01-02 17:02:19--  https://github.com/0xOMEGA/Covid19Keras/archive/main.zip\n",
            "Resolving github.com (github.com)... 192.30.255.112\n",
            "Connecting to github.com (github.com)|192.30.255.112|:443... connected.\n",
            "HTTP request sent, awaiting response... 302 Found\n",
            "Location: https://codeload.github.com/0xOMEGA/Covid19Keras/zip/main [following]\n",
            "--2021-01-02 17:02:19--  https://codeload.github.com/0xOMEGA/Covid19Keras/zip/main\n",
            "Resolving codeload.github.com (codeload.github.com)... 192.30.255.121\n",
            "Connecting to codeload.github.com (codeload.github.com)|192.30.255.121|:443... connected.\n",
            "HTTP request sent, awaiting response... 200 OK\n",
            "Length: unspecified [application/zip]\n",
            "Saving to: ‘/tmp/main.zip’\n",
            "\n",
            "/tmp/main.zip           [                 <=>]   1.27G  27.0MB/s    in 49s     \n",
            "\n",
            "2021-01-02 17:03:08 (26.4 MB/s) - ‘/tmp/main.zip’ saved [1366592044]\n",
            "\n"
          ],
          "name": "stdout"
        }
      ]
    },
    {
      "cell_type": "code",
      "metadata": {
        "id": "PLy3pthUS0D2"
      },
      "source": [
        "import os\n",
        "import zipfile\n",
        "\n",
        "local_zip = '/tmp/main.zip'\n",
        "zip_ref = zipfile.ZipFile(local_zip, 'r')\n",
        "zip_ref.extractall('/tmp')\n",
        "zip_ref.close()"
      ],
      "execution_count": 2,
      "outputs": []
    },
    {
      "cell_type": "code",
      "metadata": {
        "id": "NR_M9nWN-K8B"
      },
      "source": [
        "# Directory with our training dandelion pictures\n",
        "positive_dir = os.path.join('/tmp/Covid19Keras-main/positive')\n",
        "\n",
        "# Directory with our training grass pictures\n",
        "negative_dir = os.path.join('/tmp/Covid19Keras-main/negative')"
      ],
      "execution_count": 3,
      "outputs": []
    },
    {
      "cell_type": "code",
      "metadata": {
        "id": "4PIP1rkmeAYS",
        "colab": {
          "base_uri": "https://localhost:8080/"
        },
        "outputId": "63f274cb-272f-4b55-8788-e7f5a654b76a"
      },
      "source": [
        "positive_file_names = os.listdir(positive_dir)\n",
        "print(positive_file_names[:10])\n",
        "\n",
        "negative_file_names = os.listdir(negative_dir)\n",
        "print(negative_file_names[:10])\n"
      ],
      "execution_count": 4,
      "outputs": [
        {
          "output_type": "stream",
          "text": [
            "['000012-1.jpg', '16630_2_2.jpg', 'ba45a47c3ef5060ec39891046be7ca_jumbo.jpg', '353889E0-A1E8-4F9E-A0B8-F24F36BCFBFB.jpeg', 'b0f1684d1ee90dc09deef015e29dae_jumbo.jpeg', '16673_2_1.jpg', '3a81faf3.jpg', '11547_2020_1203_Fig1_HTML-a.png', '16745_7_1.png', 'bf551b8b.jpg']\n",
            "['IM-0517-0001-0001.jpeg', 'IM-0466-0001.jpeg', 'IM-0292-0001.jpeg', 'NORMAL2-IM-0971-0001-0001.jpeg', 'IM-0408-0001.jpeg', 'NORMAL2-IM-1342-0001.jpeg', 'IM-0640-0001-0001.jpeg', 'NORMAL2-IM-1222-0001.jpeg', 'NORMAL2-IM-0547-0001.jpeg', 'IM-0201-0001.jpeg']\n"
          ],
          "name": "stdout"
        }
      ]
    },
    {
      "cell_type": "code",
      "metadata": {
        "id": "H4XHh2xSfgie",
        "colab": {
          "base_uri": "https://localhost:8080/"
        },
        "outputId": "d93d5ced-b285-4eb7-cca9-65e9198ee702"
      },
      "source": [
        "print('total covid positive images:', len(os.listdir(positive_dir)))\n",
        "print('total covid negative images:', len(os.listdir(negative_dir)))"
      ],
      "execution_count": 5,
      "outputs": [
        {
          "output_type": "stream",
          "text": [
            "total covid positive images: 930\n",
            "total covid negative images: 1349\n"
          ],
          "name": "stdout"
        }
      ]
    },
    {
      "cell_type": "markdown",
      "metadata": {
        "id": "Sn9m9D3UimHM"
      },
      "source": [
        "#### Ön İşleme\n",
        "Gerekli biçimlendirme işlemleri uygulanıyor, 224x224 olarak yeniden boyutlandırılıp doğrulama ve eğitim için iki parçaya ayrılıyor."
      ]
    },
    {
      "cell_type": "code",
      "metadata": {
        "id": "6YI-I9hkGWrL",
        "colab": {
          "base_uri": "https://localhost:8080/"
        },
        "outputId": "cd3abe2b-2fef-4820-de28-dd5e62bf8f8e"
      },
      "source": [
        "from tensorflow.keras.preprocessing.image import ImageDataGenerator\n",
        "\n",
        "datagen = ImageDataGenerator(rescale=1/255, validation_split=.1)\n",
        "\n",
        "train_generator = datagen.flow_from_directory(\n",
        "        '/tmp/Covid19Keras-main/',  \n",
        "        classes = ['positive', 'negative'],\n",
        "        target_size=(224, 224), \n",
        "        batch_size=240,\n",
        "        class_mode='binary',\n",
        "        subset='training')\n",
        "\n",
        "validation_generator = datagen.flow_from_directory(\n",
        "        '/tmp/Covid19Keras-main/', \n",
        "        classes = ['positive', 'negative'],\n",
        "        target_size=(224, 224), \n",
        "        batch_size=25,\n",
        "        class_mode='binary',\n",
        "        subset='validation',\n",
        "        shuffle=False)"
      ],
      "execution_count": 6,
      "outputs": [
        {
          "output_type": "stream",
          "text": [
            "Found 2052 images belonging to 2 classes.\n",
            "Found 227 images belonging to 2 classes.\n"
          ],
          "name": "stdout"
        }
      ]
    },
    {
      "cell_type": "code",
      "metadata": {
        "id": "qvfZg3LQbD-5"
      },
      "source": [
        "import tensorflow as tf\n",
        "import numpy as np\n",
        "import matplotlib.pyplot as plt\n",
        "from itertools import cycle\n",
        "\n",
        "from sklearn import svm, datasets\n",
        "from sklearn.metrics import roc_curve, auc\n",
        "from sklearn.model_selection import train_test_split\n",
        "from sklearn.preprocessing import label_binarize\n",
        "from sklearn.multiclass import OneVsRestClassifier\n",
        "from scipy import interp\n",
        "from sklearn.metrics import roc_auc_score"
      ],
      "execution_count": 17,
      "outputs": []
    },
    {
      "cell_type": "code",
      "metadata": {
        "id": "PixZ2s5QbYQ3"
      },
      "source": [
        "model = tf.keras.models.Sequential([tf.keras.layers.Flatten(input_shape = (224,224,3)), \n",
        "                                    tf.keras.layers.Dense(128, activation=tf.nn.relu), \n",
        "                                    tf.keras.layers.Dense(1, activation=tf.nn.sigmoid)])"
      ],
      "execution_count": 8,
      "outputs": []
    },
    {
      "cell_type": "code",
      "metadata": {
        "id": "7ZKj8392nbgP",
        "colab": {
          "base_uri": "https://localhost:8080/"
        },
        "outputId": "f2ccfe03-619b-4708-ab4e-5abc66883b6b"
      },
      "source": [
        "model.summary()"
      ],
      "execution_count": 9,
      "outputs": [
        {
          "output_type": "stream",
          "text": [
            "Model: \"sequential\"\n",
            "_________________________________________________________________\n",
            "Layer (type)                 Output Shape              Param #   \n",
            "=================================================================\n",
            "flatten (Flatten)            (None, 150528)            0         \n",
            "_________________________________________________________________\n",
            "dense (Dense)                (None, 128)               19267712  \n",
            "_________________________________________________________________\n",
            "dense_1 (Dense)              (None, 1)                 129       \n",
            "=================================================================\n",
            "Total params: 19,267,841\n",
            "Trainable params: 19,267,841\n",
            "Non-trainable params: 0\n",
            "_________________________________________________________________\n"
          ],
          "name": "stdout"
        }
      ]
    },
    {
      "cell_type": "code",
      "metadata": {
        "id": "8DHWhFP_uhq3"
      },
      "source": [
        "model.compile(optimizer = tf.optimizers.Adam(learning_rate=1e-2),\n",
        "              loss = 'binary_crossentropy',\n",
        "              metrics=['accuracy'])"
      ],
      "execution_count": 22,
      "outputs": []
    },
    {
      "cell_type": "code",
      "metadata": {
        "id": "Fb1_lgobv81m",
        "colab": {
          "base_uri": "https://localhost:8080/"
        },
        "outputId": "f6742bf8-8a63-4e09-bf76-5e0b08bc3c20"
      },
      "source": [
        "# history = model.fit(\n",
        "#       train_generator,\n",
        "#       steps_per_epoch=8,  \n",
        "#       epochs=15,\n",
        "#       verbose=1,\n",
        "#       validation_data = validation_generator,\n",
        "#       validation_steps=8)\n",
        "\n",
        "history = model.fit(train_generator,\n",
        "      steps_per_epoch=8,  \n",
        "      epochs=15,\n",
        "      verbose=1,\n",
        "      validation_data = validation_generator,\n",
        "      validation_steps=8)"
      ],
      "execution_count": null,
      "outputs": [
        {
          "output_type": "stream",
          "text": [
            "Epoch 1/15\n",
            "8/8 [==============================] - 51s 6s/step - loss: 51.7768 - accuracy: 0.6812 - val_loss: 0.6942 - val_accuracy: 0.4650\n",
            "Epoch 2/15\n",
            "8/8 [==============================] - 50s 7s/step - loss: 0.6962 - accuracy: 0.3992 - val_loss: 0.6940 - val_accuracy: 0.4650\n",
            "Epoch 3/15\n",
            "8/8 [==============================] - 50s 6s/step - loss: 0.6945 - accuracy: 0.4235 - val_loss: 0.6928 - val_accuracy: 0.5350\n",
            "Epoch 4/15\n",
            "8/8 [==============================] - 51s 6s/step - loss: 0.6913 - accuracy: 0.5988 - val_loss: 0.6917 - val_accuracy: 0.5350\n",
            "Epoch 5/15\n",
            "8/8 [==============================] - 51s 6s/step - loss: 0.6877 - accuracy: 0.5973 - val_loss: 0.6909 - val_accuracy: 0.5350\n",
            "Epoch 6/15\n",
            "8/8 [==============================] - 51s 7s/step - loss: 0.6847 - accuracy: 0.5950 - val_loss: 0.6907 - val_accuracy: 0.5350\n",
            "Epoch 7/15\n",
            "8/8 [==============================] - 50s 6s/step - loss: 0.6802 - accuracy: 0.6081 - val_loss: 0.6909 - val_accuracy: 0.5350\n",
            "Epoch 8/15\n",
            "8/8 [==============================] - 52s 7s/step - loss: 0.6814 - accuracy: 0.5862 - val_loss: 0.6913 - val_accuracy: 0.5350\n",
            "Epoch 9/15\n",
            "8/8 [==============================] - 51s 6s/step - loss: 0.6760 - accuracy: 0.6061 - val_loss: 0.6920 - val_accuracy: 0.5350\n",
            "Epoch 10/15\n",
            "8/8 [==============================] - 50s 6s/step - loss: 0.6765 - accuracy: 0.5976 - val_loss: 0.6928 - val_accuracy: 0.5350\n",
            "Epoch 11/15\n",
            "8/8 [==============================] - 50s 6s/step - loss: 0.6785 - accuracy: 0.5872 - val_loss: 0.6935 - val_accuracy: 0.5350\n",
            "Epoch 12/15\n",
            "8/8 [==============================] - 51s 6s/step - loss: 0.6755 - accuracy: 0.5966 - val_loss: 0.6944 - val_accuracy: 0.5350\n",
            "Epoch 13/15\n",
            "3/8 [==========>...................] - ETA: 28s - loss: 0.6766 - accuracy: 0.5919"
          ],
          "name": "stdout"
        }
      ]
    },
    {
      "cell_type": "code",
      "metadata": {
        "id": "eyA2zQcVKnZE",
        "colab": {
          "base_uri": "https://localhost:8080/"
        },
        "outputId": "b2b15193-b5c9-4c21-da2d-679b88b08bfa"
      },
      "source": [
        "model.evaluate(validation_generator)"
      ],
      "execution_count": 12,
      "outputs": [
        {
          "output_type": "stream",
          "text": [
            "10/10 [==============================] - 3s 355ms/step - loss: 0.3135 - accuracy: 0.9295\n"
          ],
          "name": "stdout"
        },
        {
          "output_type": "execute_result",
          "data": {
            "text/plain": [
              "[0.3135225176811218, 0.9295154213905334]"
            ]
          },
          "metadata": {
            "tags": []
          },
          "execution_count": 12
        }
      ]
    },
    {
      "cell_type": "code",
      "metadata": {
        "id": "6fEJj5BGC0qu",
        "colab": {
          "base_uri": "https://localhost:8080/"
        },
        "outputId": "aa6b2b3a-27ff-44f0-e447-20efb9ed5766"
      },
      "source": [
        "STEP_SIZE_TEST=validation_generator.n//validation_generator.batch_size\n",
        "validation_generator.reset()\n",
        "preds = model.predict(validation_generator,\n",
        "                      verbose=1)"
      ],
      "execution_count": 13,
      "outputs": [
        {
          "output_type": "stream",
          "text": [
            "10/10 [==============================] - 3s 347ms/step\n"
          ],
          "name": "stdout"
        }
      ]
    },
    {
      "cell_type": "code",
      "metadata": {
        "id": "oQ1J0M3qVTO8"
      },
      "source": [
        "fpr, tpr, _ = roc_curve(validation_generator.classes, preds)"
      ],
      "execution_count": 14,
      "outputs": []
    },
    {
      "cell_type": "code",
      "metadata": {
        "id": "IQ-bqubEWDF5"
      },
      "source": [
        "roc_auc = auc(fpr, tpr)"
      ],
      "execution_count": 15,
      "outputs": []
    },
    {
      "cell_type": "code",
      "metadata": {
        "id": "F8cJa7m0WJyy",
        "colab": {
          "base_uri": "https://localhost:8080/",
          "height": 295
        },
        "outputId": "d783901f-614e-40be-e74c-2df9bff45b7f"
      },
      "source": [
        "plt.figure()\n",
        "lw = 2\n",
        "plt.plot(fpr, tpr, color='darkorange',\n",
        "         lw=lw, label='ROC curve (area = %0.2f)' % roc_auc)\n",
        "plt.plot([0, 1], [0, 1], color='navy', lw=lw, linestyle='--')\n",
        "plt.xlim([0.0, 1.0])\n",
        "plt.ylim([0.0, 1.05])\n",
        "plt.xlabel('False Positive Rate')\n",
        "plt.ylabel('True Positive Rate')\n",
        "plt.title('Receiver Operating Characteristic')\n",
        "plt.legend(loc=\"lower right\")\n",
        "plt.show()"
      ],
      "execution_count": 18,
      "outputs": [
        {
          "output_type": "display_data",
          "data": {
            "image/png": "[encoded data removed]",
            "text/plain": [
              "<Figure size 432x288 with 1 Axes>"
            ]
          },
          "metadata": {
            "tags": [],
            "needs_background": "light"
          }
        }
      ]
    },
    {
      "cell_type": "code",
      "metadata": {
        "id": "osBKw9vU6rHr",
        "colab": {
          "base_uri": "https://localhost:8080/",
          "height": 295
        },
        "outputId": "ec814c55-349b-4f41-e9de-2cabdb7b3410"
      },
      "source": [
        "plt.plot(history.history['accuracy'])\r\n",
        "plt.plot(history.history['val_accuracy'])\r\n",
        "plt.title('model accuracy')\r\n",
        "plt.ylabel('accuracy')\r\n",
        "plt.xlabel('epoch')\r\n",
        "plt.legend(['train', 'val'], loc='upper left')\r\n",
        "plt.show()"
      ],
      "execution_count": 20,
      "outputs": [
        {
          "output_type": "display_data",
          "data": {
            "image/png": "[encoded data removed]",
            "text/plain": [
              "<Figure size 432x288 with 1 Axes>"
            ]
          },
          "metadata": {
            "tags": [],
            "needs_background": "light"
          }
        }
      ]
    },
    {
      "cell_type": "code",
      "metadata": {
        "colab": {
          "base_uri": "https://localhost:8080/",
          "height": 295
        },
        "id": "EqtVhEmKNfoF",
        "outputId": "73cd0336-af42-4416-f95f-edb1a87db2cd"
      },
      "source": [
        "plt.plot(history.history['loss'])\r\n",
        "plt.plot(history.history['val_loss'])\r\n",
        "plt.title('model loss')\r\n",
        "plt.ylabel('loss')\r\n",
        "plt.xlabel('epoch')\r\n",
        "plt.legend(['train', 'val'], loc='upper left')\r\n",
        "plt.show()"
      ],
      "execution_count": 21,
      "outputs": [
        {
          "output_type": "display_data",
          "data": {
            "image/png": "[encoded data removed]",
            "text/plain": [
              "<Figure size 432x288 with 1 Axes>"
            ]
          },
          "metadata": {
            "tags": [],
            "needs_background": "light"
          }
        }
      ]
    },
    {
      "cell_type": "code",
      "metadata": {
        "id": "651IgjLyo-Jx"
      },
      "source": [
        "import os, signal\n",
        "os.kill(os.getpid(), signal.SIGKILL)"
      ],
      "execution_count": null,
      "outputs": []
    }
  ]
}